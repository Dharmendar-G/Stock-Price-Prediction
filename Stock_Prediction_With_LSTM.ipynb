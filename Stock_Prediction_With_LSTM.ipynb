{
  "nbformat": 4,
  "nbformat_minor": 0,
  "metadata": {
    "colab": {
      "name": "Stock Prediction With LSTM.ipynb",
      "provenance": [],
      "collapsed_sections": []
    },
    "kernelspec": {
      "name": "python3",
      "display_name": "Python 3"
    },
    "accelerator": "GPU"
  },
  "cells": [
    {
      "cell_type": "markdown",
      "metadata": {
        "id": "V1tuN3khaHm4",
        "colab_type": "text"
      },
      "source": [
        "## **Amazon Stock Price Prediction**"
      ]
    },
    {
      "cell_type": "code",
      "metadata": {
        "id": "YGty6upXAwFw",
        "colab_type": "code",
        "colab": {}
      },
      "source": [
        "# Stock Price : This Program uses Artificial Recurrent Neural Networks called Long Short Term Memory (LSTM)\n",
        "#               to Predict the closing stock price of a corporation (Amazon Inc.) Using the Past Stock Price. "
      ],
      "execution_count": 1,
      "outputs": []
    },
    {
      "cell_type": "code",
      "metadata": {
        "id": "l9V_ySuLBr6x",
        "colab_type": "code",
        "colab": {
          "base_uri": "https://localhost:8080/",
          "height": 74
        },
        "outputId": "172d4180-f279-4767-eb1b-0e159bf653d5"
      },
      "source": [
        "# Libraries \n",
        "import math\n",
        "import pandas as pd \n",
        "import numpy as np\n",
        "import pandas_datareader as web\n",
        "from sklearn.preprocessing import MinMaxScaler\n",
        "from keras.models import Sequential\n",
        "from keras.layers import Dense,LSTM\n",
        "import matplotlib.pyplot as plt \n",
        "plt.style.use('fivethirtyeight')"
      ],
      "execution_count": 2,
      "outputs": [
        {
          "output_type": "stream",
          "text": [
            "/usr/local/lib/python3.6/dist-packages/pandas_datareader/compat/__init__.py:7: FutureWarning: pandas.util.testing is deprecated. Use the functions in the public API at pandas.testing instead.\n",
            "  from pandas.util.testing import assert_frame_equal\n"
          ],
          "name": "stderr"
        }
      ]
    },
    {
      "cell_type": "code",
      "metadata": {
        "id": "udReGRUMCqIH",
        "colab_type": "code",
        "colab": {
          "base_uri": "https://localhost:8080/",
          "height": 437
        },
        "outputId": "d9c1b6cc-2e46-4358-e290-74a85f40f36b"
      },
      "source": [
        "# stock quote\n",
        "df = web.DataReader('AMZN', data_source='yahoo', start='2012-01-01', end='2020-08-01')\n",
        "df"
      ],
      "execution_count": 3,
      "outputs": [
        {
          "output_type": "execute_result",
          "data": {
            "text/html": [
              "<div>\n",
              "<style scoped>\n",
              "    .dataframe tbody tr th:only-of-type {\n",
              "        vertical-align: middle;\n",
              "    }\n",
              "\n",
              "    .dataframe tbody tr th {\n",
              "        vertical-align: top;\n",
              "    }\n",
              "\n",
              "    .dataframe thead th {\n",
              "        text-align: right;\n",
              "    }\n",
              "</style>\n",
              "<table border=\"1\" class=\"dataframe\">\n",
              "  <thead>\n",
              "    <tr style=\"text-align: right;\">\n",
              "      <th></th>\n",
              "      <th>High</th>\n",
              "      <th>Low</th>\n",
              "      <th>Open</th>\n",
              "      <th>Close</th>\n",
              "      <th>Volume</th>\n",
              "      <th>Adj Close</th>\n",
              "    </tr>\n",
              "    <tr>\n",
              "      <th>Date</th>\n",
              "      <th></th>\n",
              "      <th></th>\n",
              "      <th></th>\n",
              "      <th></th>\n",
              "      <th></th>\n",
              "      <th></th>\n",
              "    </tr>\n",
              "  </thead>\n",
              "  <tbody>\n",
              "    <tr>\n",
              "      <th>2012-01-03</th>\n",
              "      <td>179.479996</td>\n",
              "      <td>175.550003</td>\n",
              "      <td>175.889999</td>\n",
              "      <td>179.029999</td>\n",
              "      <td>5110800</td>\n",
              "      <td>179.029999</td>\n",
              "    </tr>\n",
              "    <tr>\n",
              "      <th>2012-01-04</th>\n",
              "      <td>180.500000</td>\n",
              "      <td>176.070007</td>\n",
              "      <td>179.210007</td>\n",
              "      <td>177.509995</td>\n",
              "      <td>4205200</td>\n",
              "      <td>177.509995</td>\n",
              "    </tr>\n",
              "    <tr>\n",
              "      <th>2012-01-05</th>\n",
              "      <td>178.250000</td>\n",
              "      <td>174.050003</td>\n",
              "      <td>175.940002</td>\n",
              "      <td>177.610001</td>\n",
              "      <td>3809100</td>\n",
              "      <td>177.610001</td>\n",
              "    </tr>\n",
              "    <tr>\n",
              "      <th>2012-01-06</th>\n",
              "      <td>184.649994</td>\n",
              "      <td>177.500000</td>\n",
              "      <td>178.070007</td>\n",
              "      <td>182.610001</td>\n",
              "      <td>7008400</td>\n",
              "      <td>182.610001</td>\n",
              "    </tr>\n",
              "    <tr>\n",
              "      <th>2012-01-09</th>\n",
              "      <td>184.369995</td>\n",
              "      <td>177.000000</td>\n",
              "      <td>182.759995</td>\n",
              "      <td>178.559998</td>\n",
              "      <td>5056900</td>\n",
              "      <td>178.559998</td>\n",
              "    </tr>\n",
              "    <tr>\n",
              "      <th>...</th>\n",
              "      <td>...</td>\n",
              "      <td>...</td>\n",
              "      <td>...</td>\n",
              "      <td>...</td>\n",
              "      <td>...</td>\n",
              "      <td>...</td>\n",
              "    </tr>\n",
              "    <tr>\n",
              "      <th>2020-07-27</th>\n",
              "      <td>3098.000000</td>\n",
              "      <td>3015.770020</td>\n",
              "      <td>3062.000000</td>\n",
              "      <td>3055.209961</td>\n",
              "      <td>4170500</td>\n",
              "      <td>3055.209961</td>\n",
              "    </tr>\n",
              "    <tr>\n",
              "      <th>2020-07-28</th>\n",
              "      <td>3077.090088</td>\n",
              "      <td>2995.760010</td>\n",
              "      <td>3054.270020</td>\n",
              "      <td>3000.330078</td>\n",
              "      <td>3126700</td>\n",
              "      <td>3000.330078</td>\n",
              "    </tr>\n",
              "    <tr>\n",
              "      <th>2020-07-29</th>\n",
              "      <td>3039.159912</td>\n",
              "      <td>2996.770020</td>\n",
              "      <td>3030.989990</td>\n",
              "      <td>3033.530029</td>\n",
              "      <td>2974100</td>\n",
              "      <td>3033.530029</td>\n",
              "    </tr>\n",
              "    <tr>\n",
              "      <th>2020-07-30</th>\n",
              "      <td>3092.000000</td>\n",
              "      <td>3005.000000</td>\n",
              "      <td>3014.000000</td>\n",
              "      <td>3051.879883</td>\n",
              "      <td>6128300</td>\n",
              "      <td>3051.879883</td>\n",
              "    </tr>\n",
              "    <tr>\n",
              "      <th>2020-07-31</th>\n",
              "      <td>3246.820068</td>\n",
              "      <td>3151.000000</td>\n",
              "      <td>3244.000000</td>\n",
              "      <td>3164.679932</td>\n",
              "      <td>8085500</td>\n",
              "      <td>3164.679932</td>\n",
              "    </tr>\n",
              "  </tbody>\n",
              "</table>\n",
              "<p>2159 rows × 6 columns</p>\n",
              "</div>"
            ],
            "text/plain": [
              "                   High          Low  ...   Volume    Adj Close\n",
              "Date                                  ...                      \n",
              "2012-01-03   179.479996   175.550003  ...  5110800   179.029999\n",
              "2012-01-04   180.500000   176.070007  ...  4205200   177.509995\n",
              "2012-01-05   178.250000   174.050003  ...  3809100   177.610001\n",
              "2012-01-06   184.649994   177.500000  ...  7008400   182.610001\n",
              "2012-01-09   184.369995   177.000000  ...  5056900   178.559998\n",
              "...                 ...          ...  ...      ...          ...\n",
              "2020-07-27  3098.000000  3015.770020  ...  4170500  3055.209961\n",
              "2020-07-28  3077.090088  2995.760010  ...  3126700  3000.330078\n",
              "2020-07-29  3039.159912  2996.770020  ...  2974100  3033.530029\n",
              "2020-07-30  3092.000000  3005.000000  ...  6128300  3051.879883\n",
              "2020-07-31  3246.820068  3151.000000  ...  8085500  3164.679932\n",
              "\n",
              "[2159 rows x 6 columns]"
            ]
          },
          "metadata": {
            "tags": []
          },
          "execution_count": 3
        }
      ]
    },
    {
      "cell_type": "code",
      "metadata": {
        "id": "9p3kXWyhFcRy",
        "colab_type": "code",
        "colab": {
          "base_uri": "https://localhost:8080/",
          "height": 35
        },
        "outputId": "57fbf3b1-95c1-44c8-d807-24f1548572c3"
      },
      "source": [
        "# total records\n",
        "df.shape"
      ],
      "execution_count": 4,
      "outputs": [
        {
          "output_type": "execute_result",
          "data": {
            "text/plain": [
              "(2159, 6)"
            ]
          },
          "metadata": {
            "tags": []
          },
          "execution_count": 4
        }
      ]
    },
    {
      "cell_type": "code",
      "metadata": {
        "id": "qb5OsRb9F42q",
        "colab_type": "code",
        "colab": {
          "base_uri": "https://localhost:8080/",
          "height": 558
        },
        "outputId": "1a430fef-3832-4007-f0c2-3eacff84fdb1"
      },
      "source": [
        "# Closing Price History\n",
        "plt.figure(figsize=(16,8))\n",
        "plt.plot(df['Close'])\n",
        "plt.title('Close Price History')\n",
        "plt.xlabel('Date', fontsize=18)\n",
        "plt.ylabel('Close Price USD($)', fontsize=18)\n",
        "plt.show()"
      ],
      "execution_count": 5,
      "outputs": [
        {
          "output_type": "display_data",
          "data": {
            "image/png": "[encoded data removed]",
            "text/plain": [
              "<Figure size 1152x576 with 1 Axes>"
            ]
          },
          "metadata": {
            "tags": []
          }
        }
      ]
    },
    {
      "cell_type": "code",
      "metadata": {
        "id": "I-UBsH5SHE_k",
        "colab_type": "code",
        "colab": {
          "base_uri": "https://localhost:8080/",
          "height": 35
        },
        "outputId": "b9b1e990-7dc3-463e-b787-db46670be9ac"
      },
      "source": [
        "# Taking Required column which is 'Close'\n",
        "data = df.filter(['Close'])\n",
        "\n",
        "# Converting df to numpy array \n",
        "dataset = data.values\n",
        "\n",
        "# Taking 80% data len for training the model \n",
        "train_data_len = math.ceil( len(dataset)* .8 )\n",
        "train_data_len"
      ],
      "execution_count": 6,
      "outputs": [
        {
          "output_type": "execute_result",
          "data": {
            "text/plain": [
              "1728"
            ]
          },
          "metadata": {
            "tags": []
          },
          "execution_count": 6
        }
      ]
    },
    {
      "cell_type": "code",
      "metadata": {
        "id": "TzQqSR-3Ji_w",
        "colab_type": "code",
        "colab": {
          "base_uri": "https://localhost:8080/",
          "height": 145
        },
        "outputId": "6dad6e0a-9f8a-496e-a63c-b4c1942a1f9e"
      },
      "source": [
        "# Scale the data \n",
        "scaler = MinMaxScaler(feature_range=(0,1))\n",
        "scaled_data = scaler.fit_transform(dataset)\n",
        "\n",
        "scaled_data"
      ],
      "execution_count": 7,
      "outputs": [
        {
          "output_type": "execute_result",
          "data": {
            "text/plain": [
              "array([[1.02511056e-03],\n",
              "       [5.22475282e-04],\n",
              "       [5.55545318e-04],\n",
              "       ...,\n",
              "       [9.44951681e-01],\n",
              "       [9.51019614e-01],\n",
              "       [9.88320354e-01]])"
            ]
          },
          "metadata": {
            "tags": []
          },
          "execution_count": 7
        }
      ]
    },
    {
      "cell_type": "code",
      "metadata": {
        "id": "4xhiSUthLqj7",
        "colab_type": "code",
        "colab": {
          "base_uri": "https://localhost:8080/",
          "height": 690
        },
        "outputId": "05fb6d3a-05fe-4ba7-d82f-1b802a3ef306"
      },
      "source": [
        "# splitting the scaled data to create train set \n",
        "train_data = scaled_data[0:train_data_len, :]\n",
        "\n",
        "# X_train , y_train  # taking 60 best values\n",
        "X_train = []\n",
        "y_train = []\n",
        "\n",
        "for i in range(60, len(train_data)):\n",
        "  X_train.append(train_data[i-60:i, 0])\n",
        "  y_train.append(train_data[i,0])\n",
        "  if i<=61:\n",
        "    print(X_train)\n",
        "    print(y_train)"
      ],
      "execution_count": 8,
      "outputs": [
        {
          "output_type": "stream",
          "text": [
            "[array([0.00102511, 0.00052248, 0.00055555, 0.00220895, 0.00086969,\n",
            "       0.00112762, 0.00098212, 0.        , 0.0008234 , 0.0018948 ,\n",
            "       0.00446749, 0.0061242 , 0.0049602 , 0.00335971, 0.00366063,\n",
            "       0.00392518, 0.00575053, 0.00642842, 0.00536363, 0.00612089,\n",
            "       0.00116731, 0.00191464, 0.00388549, 0.00238421, 0.00273142,\n",
            "       0.003158  , 0.00299266, 0.00317784, 0.00517845, 0.00508256,\n",
            "       0.00282401, 0.00132272, 0.00217257, 0.00209321, 0.00153767,\n",
            "       0.00097882, 0.00105818, 0.00085977, 0.00260246, 0.00124336,\n",
            "       0.0013591 , 0.0011144 , 0.00143185, 0.00170631, 0.00259254,\n",
            "       0.00387227, 0.00277441, 0.00246688, 0.00286369, 0.00209321,\n",
            "       0.00281078, 0.00301581, 0.00317123, 0.00542316, 0.00522475,\n",
            "       0.0054463 , 0.0063193 , 0.00890852, 0.00975838, 0.00834306])]\n",
            "[0.00948391005006765]\n",
            "[array([0.00102511, 0.00052248, 0.00055555, 0.00220895, 0.00086969,\n",
            "       0.00112762, 0.00098212, 0.        , 0.0008234 , 0.0018948 ,\n",
            "       0.00446749, 0.0061242 , 0.0049602 , 0.00335971, 0.00366063,\n",
            "       0.00392518, 0.00575053, 0.00642842, 0.00536363, 0.00612089,\n",
            "       0.00116731, 0.00191464, 0.00388549, 0.00238421, 0.00273142,\n",
            "       0.003158  , 0.00299266, 0.00317784, 0.00517845, 0.00508256,\n",
            "       0.00282401, 0.00132272, 0.00217257, 0.00209321, 0.00153767,\n",
            "       0.00097882, 0.00105818, 0.00085977, 0.00260246, 0.00124336,\n",
            "       0.0013591 , 0.0011144 , 0.00143185, 0.00170631, 0.00259254,\n",
            "       0.00387227, 0.00277441, 0.00246688, 0.00286369, 0.00209321,\n",
            "       0.00281078, 0.00301581, 0.00317123, 0.00542316, 0.00522475,\n",
            "       0.0054463 , 0.0063193 , 0.00890852, 0.00975838, 0.00834306]), array([0.00052248, 0.00055555, 0.00220895, 0.00086969, 0.00112762,\n",
            "       0.00098212, 0.        , 0.0008234 , 0.0018948 , 0.00446749,\n",
            "       0.0061242 , 0.0049602 , 0.00335971, 0.00366063, 0.00392518,\n",
            "       0.00575053, 0.00642842, 0.00536363, 0.00612089, 0.00116731,\n",
            "       0.00191464, 0.00388549, 0.00238421, 0.00273142, 0.003158  ,\n",
            "       0.00299266, 0.00317784, 0.00517845, 0.00508256, 0.00282401,\n",
            "       0.00132272, 0.00217257, 0.00209321, 0.00153767, 0.00097882,\n",
            "       0.00105818, 0.00085977, 0.00260246, 0.00124336, 0.0013591 ,\n",
            "       0.0011144 , 0.00143185, 0.00170631, 0.00259254, 0.00387227,\n",
            "       0.00277441, 0.00246688, 0.00286369, 0.00209321, 0.00281078,\n",
            "       0.00301581, 0.00317123, 0.00542316, 0.00522475, 0.0054463 ,\n",
            "       0.0063193 , 0.00890852, 0.00975838, 0.00834306, 0.00948391])]\n",
            "[0.00948391005006765, 0.008789479663724266]\n"
          ],
          "name": "stdout"
        }
      ]
    },
    {
      "cell_type": "code",
      "metadata": {
        "id": "81Tv7UqqPHRD",
        "colab_type": "code",
        "colab": {}
      },
      "source": [
        "# Converting to Numpy Arrays \n",
        "X_train, y_train = np.array(X_train), np.array(y_train)"
      ],
      "execution_count": 9,
      "outputs": []
    },
    {
      "cell_type": "code",
      "metadata": {
        "id": "PREunf5YQVcS",
        "colab_type": "code",
        "colab": {
          "base_uri": "https://localhost:8080/",
          "height": 35
        },
        "outputId": "b5c609b8-8ce8-43dc-9a83-bdcf3fa161f2"
      },
      "source": [
        "X_train.shape"
      ],
      "execution_count": 10,
      "outputs": [
        {
          "output_type": "execute_result",
          "data": {
            "text/plain": [
              "(1668, 60)"
            ]
          },
          "metadata": {
            "tags": []
          },
          "execution_count": 10
        }
      ]
    },
    {
      "cell_type": "code",
      "metadata": {
        "id": "gDjCDO-dPx8-",
        "colab_type": "code",
        "colab": {
          "base_uri": "https://localhost:8080/",
          "height": 35
        },
        "outputId": "460a53f9-a58e-44d8-de7d-8131d33ab03c"
      },
      "source": [
        "# Reshaping Data to 3D for LSTM \n",
        "X_train = np.reshape(X_train, (X_train.shape[0], X_train.shape[1], 1))\n",
        "X_train.shape"
      ],
      "execution_count": 11,
      "outputs": [
        {
          "output_type": "execute_result",
          "data": {
            "text/plain": [
              "(1668, 60, 1)"
            ]
          },
          "metadata": {
            "tags": []
          },
          "execution_count": 11
        }
      ]
    },
    {
      "cell_type": "code",
      "metadata": {
        "id": "LSgJqGUEPfNf",
        "colab_type": "code",
        "colab": {}
      },
      "source": [
        "# Build the LSTM model \n",
        "model = Sequential()\n",
        "model.add(LSTM(50, return_sequences=True, input_shape=(X_train.shape[1], 1)))\n",
        "model.add(LSTM(50, return_sequences=False))\n",
        "model.add(Dense(25))\n",
        "model.add(Dense(1))"
      ],
      "execution_count": 12,
      "outputs": []
    },
    {
      "cell_type": "code",
      "metadata": {
        "id": "zzpHHOKRSSyk",
        "colab_type": "code",
        "colab": {}
      },
      "source": [
        "# Compile the model \n",
        "model.compile(optimizer='adam', loss='mean_squared_error')"
      ],
      "execution_count": 13,
      "outputs": []
    },
    {
      "cell_type": "code",
      "metadata": {
        "id": "zHADH77US5xX",
        "colab_type": "code",
        "colab": {
          "base_uri": "https://localhost:8080/",
          "height": 54
        },
        "outputId": "6f2257a5-45a0-4436-a875-bc814f4da65b"
      },
      "source": [
        "# Train the model\n",
        "model.fit(X_train, y_train, batch_size=1, epochs=1)"
      ],
      "execution_count": 14,
      "outputs": [
        {
          "output_type": "stream",
          "text": [
            "1668/1668 [==============================] - 28s 17ms/step - loss: 6.7806e-04\n"
          ],
          "name": "stdout"
        },
        {
          "output_type": "execute_result",
          "data": {
            "text/plain": [
              "<tensorflow.python.keras.callbacks.History at 0x7f93304677f0>"
            ]
          },
          "metadata": {
            "tags": []
          },
          "execution_count": 14
        }
      ]
    },
    {
      "cell_type": "code",
      "metadata": {
        "id": "3guUYCNmTLfK",
        "colab_type": "code",
        "colab": {}
      },
      "source": [
        "# Splitting the Scaled datset to create test set \n",
        "test_data = scaled_data[train_data_len - 60:, :]\n",
        "\n",
        "# X_test , y_test \n",
        "X_test = []\n",
        "y_test = dataset[train_data_len:, :]\n",
        "\n",
        "for i in range(60, len(test_data)):\n",
        "  X_test.append(test_data[i-60:i, 0])"
      ],
      "execution_count": 15,
      "outputs": []
    },
    {
      "cell_type": "code",
      "metadata": {
        "id": "dQeC-ripVW5O",
        "colab_type": "code",
        "colab": {}
      },
      "source": [
        "# Converting to numpy array \n",
        "X_test = np.array(X_test)"
      ],
      "execution_count": 16,
      "outputs": []
    },
    {
      "cell_type": "code",
      "metadata": {
        "id": "k7Iase9YVuZ_",
        "colab_type": "code",
        "colab": {}
      },
      "source": [
        "# Reshape the data\n",
        "X_test = np.reshape(X_test, (X_test.shape[0], X_test.shape[1], 1))"
      ],
      "execution_count": 17,
      "outputs": []
    },
    {
      "cell_type": "code",
      "metadata": {
        "id": "olhWXATnWiia",
        "colab_type": "code",
        "colab": {}
      },
      "source": [
        "# Predictions \n",
        "preds = model.predict(X_test)\n",
        "predictions = scaler.inverse_transform(preds)"
      ],
      "execution_count": 18,
      "outputs": []
    },
    {
      "cell_type": "code",
      "metadata": {
        "id": "bj6tl_szWxAE",
        "colab_type": "code",
        "colab": {
          "base_uri": "https://localhost:8080/",
          "height": 35
        },
        "outputId": "1dd17533-351f-4457-96c9-7ba72041a2df"
      },
      "source": [
        "# RMSE \n",
        "rmse = np.sqrt(np.mean(predictions-y_test)**2)\n",
        "rmse "
      ],
      "execution_count": 19,
      "outputs": [
        {
          "output_type": "execute_result",
          "data": {
            "text/plain": [
              "56.955226818536104"
            ]
          },
          "metadata": {
            "tags": []
          },
          "execution_count": 19
        }
      ]
    },
    {
      "cell_type": "code",
      "metadata": {
        "id": "vmtDJ3pqXIcS",
        "colab_type": "code",
        "colab": {
          "base_uri": "https://localhost:8080/",
          "height": 126
        },
        "outputId": "8e579359-2004-4d98-d052-28cf8fa414bf"
      },
      "source": [
        "# Plot the Data \n",
        "train = data[:train_data_len]\n",
        "valid = data[train_data_len:]\n",
        "valid['Predictions'] = predictions"
      ],
      "execution_count": 20,
      "outputs": [
        {
          "output_type": "stream",
          "text": [
            "/usr/local/lib/python3.6/dist-packages/ipykernel_launcher.py:4: SettingWithCopyWarning: \n",
            "A value is trying to be set on a copy of a slice from a DataFrame.\n",
            "Try using .loc[row_indexer,col_indexer] = value instead\n",
            "\n",
            "See the caveats in the documentation: https://pandas.pydata.org/pandas-docs/stable/user_guide/indexing.html#returning-a-view-versus-a-copy\n",
            "  after removing the cwd from sys.path.\n"
          ],
          "name": "stderr"
        }
      ]
    },
    {
      "cell_type": "code",
      "metadata": {
        "id": "X2cWl_hIancJ",
        "colab_type": "code",
        "colab": {
          "base_uri": "https://localhost:8080/",
          "height": 437
        },
        "outputId": "8342cfe0-8011-43a0-86f9-421d9e1fad1b"
      },
      "source": [
        "# Original & Predicted\n",
        "valid"
      ],
      "execution_count": 21,
      "outputs": [
        {
          "output_type": "execute_result",
          "data": {
            "text/html": [
              "<div>\n",
              "<style scoped>\n",
              "    .dataframe tbody tr th:only-of-type {\n",
              "        vertical-align: middle;\n",
              "    }\n",
              "\n",
              "    .dataframe tbody tr th {\n",
              "        vertical-align: top;\n",
              "    }\n",
              "\n",
              "    .dataframe thead th {\n",
              "        text-align: right;\n",
              "    }\n",
              "</style>\n",
              "<table border=\"1\" class=\"dataframe\">\n",
              "  <thead>\n",
              "    <tr style=\"text-align: right;\">\n",
              "      <th></th>\n",
              "      <th>Close</th>\n",
              "      <th>Predictions</th>\n",
              "    </tr>\n",
              "    <tr>\n",
              "      <th>Date</th>\n",
              "      <th></th>\n",
              "      <th></th>\n",
              "    </tr>\n",
              "  </thead>\n",
              "  <tbody>\n",
              "    <tr>\n",
              "      <th>2018-11-13</th>\n",
              "      <td>1631.170044</td>\n",
              "      <td>1658.678955</td>\n",
              "    </tr>\n",
              "    <tr>\n",
              "      <th>2018-11-14</th>\n",
              "      <td>1599.010010</td>\n",
              "      <td>1658.014893</td>\n",
              "    </tr>\n",
              "    <tr>\n",
              "      <th>2018-11-15</th>\n",
              "      <td>1619.439941</td>\n",
              "      <td>1652.051025</td>\n",
              "    </tr>\n",
              "    <tr>\n",
              "      <th>2018-11-16</th>\n",
              "      <td>1593.410034</td>\n",
              "      <td>1645.029053</td>\n",
              "    </tr>\n",
              "    <tr>\n",
              "      <th>2018-11-19</th>\n",
              "      <td>1512.290039</td>\n",
              "      <td>1635.961914</td>\n",
              "    </tr>\n",
              "    <tr>\n",
              "      <th>...</th>\n",
              "      <td>...</td>\n",
              "      <td>...</td>\n",
              "    </tr>\n",
              "    <tr>\n",
              "      <th>2020-07-27</th>\n",
              "      <td>3055.209961</td>\n",
              "      <td>2867.400879</td>\n",
              "    </tr>\n",
              "    <tr>\n",
              "      <th>2020-07-28</th>\n",
              "      <td>3000.330078</td>\n",
              "      <td>2862.395508</td>\n",
              "    </tr>\n",
              "    <tr>\n",
              "      <th>2020-07-29</th>\n",
              "      <td>3033.530029</td>\n",
              "      <td>2854.913330</td>\n",
              "    </tr>\n",
              "    <tr>\n",
              "      <th>2020-07-30</th>\n",
              "      <td>3051.879883</td>\n",
              "      <td>2849.040283</td>\n",
              "    </tr>\n",
              "    <tr>\n",
              "      <th>2020-07-31</th>\n",
              "      <td>3164.679932</td>\n",
              "      <td>2845.803467</td>\n",
              "    </tr>\n",
              "  </tbody>\n",
              "</table>\n",
              "<p>431 rows × 2 columns</p>\n",
              "</div>"
            ],
            "text/plain": [
              "                  Close  Predictions\n",
              "Date                                \n",
              "2018-11-13  1631.170044  1658.678955\n",
              "2018-11-14  1599.010010  1658.014893\n",
              "2018-11-15  1619.439941  1652.051025\n",
              "2018-11-16  1593.410034  1645.029053\n",
              "2018-11-19  1512.290039  1635.961914\n",
              "...                 ...          ...\n",
              "2020-07-27  3055.209961  2867.400879\n",
              "2020-07-28  3000.330078  2862.395508\n",
              "2020-07-29  3033.530029  2854.913330\n",
              "2020-07-30  3051.879883  2849.040283\n",
              "2020-07-31  3164.679932  2845.803467\n",
              "\n",
              "[431 rows x 2 columns]"
            ]
          },
          "metadata": {
            "tags": []
          },
          "execution_count": 21
        }
      ]
    },
    {
      "cell_type": "code",
      "metadata": {
        "id": "3lPJaxu-YShT",
        "colab_type": "code",
        "colab": {
          "base_uri": "https://localhost:8080/",
          "height": 558
        },
        "outputId": "3fc29ee4-0011-428b-b2dd-952988ac52cc"
      },
      "source": [
        "# Visualizing the data\n",
        "plt.figure(figsize=(16,8))\n",
        "plt.title('Model Performance')\n",
        "plt.xlabel('Date', fontsize=18)\n",
        "plt.ylabel('Close Price USD($)',fontsize=18)\n",
        "plt.plot(train['Close'])\n",
        "plt.plot(valid[['Close', 'Predictions']])\n",
        "plt.legend(['Train','Validation', 'Predictions'], loc='best')\n",
        "plt.show()"
      ],
      "execution_count": 22,
      "outputs": [
        {
          "output_type": "display_data",
          "data": {
            "image/png": "[encoded data removed]",
            "text/plain": [
              "<Figure size 1152x576 with 1 Axes>"
            ]
          },
          "metadata": {
            "tags": []
          }
        }
      ]
    },
    {
      "cell_type": "code",
      "metadata": {
        "id": "0ndLO30kaip7",
        "colab_type": "code",
        "colab": {
          "base_uri": "https://localhost:8080/",
          "height": 35
        },
        "outputId": "5807c671-5105-41f1-cf79-40d18bd0b72d"
      },
      "source": [
        "# Get the Quote \n",
        "amazon_quote = web.DataReader('AMZN', data_source='yahoo', start='2012-01-01', end='2020-08-01')\n",
        "\n",
        "# Feature Selection\n",
        "new_df = amazon_quote.filter(['Close'])\n",
        "\n",
        "# Taking last 60 days Close price values and converting to numpy array\n",
        "last_60_days = new_df[-60:].values\n",
        "\n",
        "# Scale the data b/n 0 to 1\n",
        "last_60_days_scaled = scaler.fit_transform(last_60_days)\n",
        "\n",
        "# Creating empty X_test list\n",
        "X_test = []\n",
        "\n",
        "# Appending past 60 days \n",
        "X_test.append(last_60_days)\n",
        "\n",
        "# Convert the X_test to numpy array \n",
        "X_test = np.array(X_test)\n",
        "\n",
        "# Reshape to 3D\n",
        "X_test = np.reshape(X_test, (X_test.shape[0], X_test.shape[1], 1))\n",
        "\n",
        "# Prediction \n",
        "preds = model.predict(X_test)\n",
        "\n",
        "# Undo scaling \n",
        "predictions = scaler.inverse_transform(preds)\n",
        "\n",
        "# Print the Predictions \n",
        "print(predictions)"
      ],
      "execution_count": 23,
      "outputs": [
        {
          "output_type": "stream",
          "text": [
            "[[3517.595]]\n"
          ],
          "name": "stdout"
        }
      ]
    },
    {
      "cell_type": "code",
      "metadata": {
        "id": "wn92EBVi43ct",
        "colab_type": "code",
        "colab": {
          "base_uri": "https://localhost:8080/",
          "height": 72
        },
        "outputId": "893fe223-97d0-4a06-b31a-0ebe6f66b832"
      },
      "source": [
        "# Get the Quote\n",
        "Amazon_quote = web.DataReader('AMZN', data_source='yahoo', start='2020-08-02', end='2020-08-03')\n",
        "print(Amazon_quote['Close'])"
      ],
      "execution_count": 24,
      "outputs": [
        {
          "output_type": "stream",
          "text": [
            "Date\n",
            "2020-08-03    3111.889893\n",
            "Name: Close, dtype: float64\n"
          ],
          "name": "stdout"
        }
      ]
    },
    {
      "cell_type": "code",
      "metadata": {
        "id": "tlKy_FiG7xhl",
        "colab_type": "code",
        "colab": {}
      },
      "source": [
        ""
      ],
      "execution_count": 24,
      "outputs": []
    }
  ]
}